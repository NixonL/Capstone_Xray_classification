{
 "cells": [
  {
   "cell_type": "markdown",
   "metadata": {},
   "source": [
    "# Humerus Anomaly Detection Model "
   ]
  },
  {
   "cell_type": "code",
   "execution_count": 1,
   "metadata": {},
   "outputs": [
    {
     "name": "stderr",
     "output_type": "stream",
     "text": [
      "Using TensorFlow backend.\n"
     ]
    }
   ],
   "source": [
    "import os\n",
    "import numpy as np\n",
    "import pandas as pd\n",
    "import keras\n",
    "from keras import backend as K\n",
    "from keras.layers.core import Dense, Activation, Dropout\n",
    "from keras.layers import Dense,GlobalAveragePooling2D,Convolution2D,MaxPooling2D,Flatten,Dropout\n",
    "from keras import regularizers\n",
    "from keras.optimizers import Adam, Adadelta\n",
    "from keras.metrics import categorical_crossentropy\n",
    "from keras.preprocessing.image import ImageDataGenerator\n",
    "from keras.preprocessing import image\n",
    "from keras.models import Model\n",
    "from keras.applications import MobileNet\n",
    "from keras.applications.mobilenet import preprocess_input\n",
    "from keras.applications import imagenet_utils\n",
    "from sklearn.metrics import confusion_matrix\n",
    "from keras.callbacks import EarlyStopping, ReduceLROnPlateau, ModelCheckpoint, Callback\n",
    "from keras.models import model_from_json\n",
    "import itertools\n",
    "import matplotlib.pyplot as plt\n",
    "from keras.applications.vgg16 import VGG16,preprocess_input,decode_predictions\n",
    "from keras.applications.inception_v3 import InceptionV3\n",
    "from keras.layers import Input\n",
    "from keras.models import  Sequential\n",
    "from sklearn import metrics\n",
    "\n",
    "%matplotlib inline"
   ]
  },
  {
   "cell_type": "markdown",
   "metadata": {},
   "source": [
    "## Loading the data"
   ]
  },
  {
   "cell_type": "code",
   "execution_count": 2,
   "metadata": {},
   "outputs": [],
   "source": [
    "humerus_df = pd.read_csv('train_humerus.csv')"
   ]
  },
  {
   "cell_type": "code",
   "execution_count": 3,
   "metadata": {},
   "outputs": [],
   "source": [
    "humerus_test = pd.read_csv('test_humerus.csv')"
   ]
  },
  {
   "cell_type": "code",
   "execution_count": 4,
   "metadata": {},
   "outputs": [],
   "source": [
    "# Generating class weights\n",
    "from sklearn.utils import class_weight\n",
    "class_weights = class_weight.compute_class_weight('balanced', np.unique(humerus_df['class_label']), humerus_df['class_label'])"
   ]
  },
  {
   "cell_type": "code",
   "execution_count": 5,
   "metadata": {},
   "outputs": [
    {
     "data": {
      "text/plain": [
       "array([0.94502229, 1.06176962])"
      ]
     },
     "execution_count": 5,
     "metadata": {},
     "output_type": "execute_result"
    }
   ],
   "source": [
    "# Getting the class weights\n",
    "class_weights"
   ]
  },
  {
   "cell_type": "markdown",
   "metadata": {},
   "source": [
    "## Generating Train, Validation, Test Data"
   ]
  },
  {
   "cell_type": "code",
   "execution_count": 6,
   "metadata": {},
   "outputs": [],
   "source": [
    "datagen = ImageDataGenerator(\n",
    "    preprocessing_function = preprocess_input,\n",
    "#     featurewise_center = True,\n",
    "#     featurewise_std_normalization = True,\n",
    "    rescale = 1./255,\n",
    "    shear_range = 0.2,\n",
    "    zoom_range = 0.2,\n",
    "    rotation_range = 30,\n",
    "    width_shift_range = 0.2,\n",
    "    height_shift_range = 0.2,\n",
    "    horizontal_flip = True,\n",
    "    validation_split = 0.2)"
   ]
  },
  {
   "cell_type": "code",
   "execution_count": 7,
   "metadata": {},
   "outputs": [
    {
     "name": "stdout",
     "output_type": "stream",
     "text": [
      "Found 1018 validated image filenames belonging to 2 classes.\n",
      "Found 254 validated image filenames belonging to 2 classes.\n"
     ]
    }
   ],
   "source": [
    "train_generator = datagen.flow_from_dataframe(\n",
    "    dataframe = humerus_df,\n",
    "    directory = None,\n",
    "    x_col = \"path\",\n",
    "    y_col = \"class_label\",\n",
    "    subset = \"training\",\n",
    "    batch_size = 8,\n",
    "    shuffle = True,\n",
    "    class_mode = \"categorical\",\n",
    "    target_size = (224, 224))\n",
    "\n",
    "valid_generator = datagen.flow_from_dataframe(\n",
    "    dataframe = humerus_df,\n",
    "    directory = None,\n",
    "    x_col = \"path\",\n",
    "    y_col = \"class_label\",\n",
    "    subset = \"validation\",\n",
    "    batch_size = 8,\n",
    "    shuffle = True,\n",
    "    class_mode = \"categorical\",\n",
    "    target_size = (224, 224))"
   ]
  },
  {
   "cell_type": "code",
   "execution_count": 8,
   "metadata": {},
   "outputs": [
    {
     "name": "stdout",
     "output_type": "stream",
     "text": [
      "Found 288 validated image filenames belonging to 2 classes.\n"
     ]
    }
   ],
   "source": [
    "test_datagen=ImageDataGenerator(rescale=1./255.)\n",
    "\n",
    "test_generator=test_datagen.flow_from_dataframe(\n",
    "dataframe=humerus_test,\n",
    "directory=None,\n",
    "x_col=\"path\",\n",
    "y_col='class_label',\n",
    "batch_size=8,\n",
    "shuffle=False,\n",
    "target_size=(224, 224))"
   ]
  },
  {
   "cell_type": "markdown",
   "metadata": {},
   "source": [
    "## MobileNet Model"
   ]
  },
  {
   "cell_type": "code",
   "execution_count": 158,
   "metadata": {},
   "outputs": [],
   "source": [
    "# Instantiating and customizing the model\n",
    "model = MobileNet()\n",
    "x = model.layers[-6].output\n",
    "predictions = Dense(2, activation='softmax')(x)\n",
    "model = Model(inputs=model.input, outputs=predictions)\n",
    "\n",
    "x = model.layers[-2].output\n",
    "x = Dropout(0.5)(x)\n",
    "x = Dense(1024, activation='relu')(x)\n",
    "x = Dropout(0.5)(x)\n",
    "x = Dense(256, activation='relu')(x)\n",
    "\n",
    "predictions = Dense(2, activation='softmax')(x)\n",
    "\n",
    "model = Model(inputs=model.input, outputs=predictions)"
   ]
  },
  {
   "cell_type": "code",
   "execution_count": 164,
   "metadata": {},
   "outputs": [],
   "source": [
    "# Unfreezing the layers to train the model\n",
    "for layer in model.layers[:]:\n",
    "   layer.trainable = True"
   ]
  },
  {
   "cell_type": "markdown",
   "metadata": {},
   "source": [
    "## Compiling and training the model"
   ]
  },
  {
   "cell_type": "code",
   "execution_count": 166,
   "metadata": {},
   "outputs": [],
   "source": [
    "model.compile(optimizer=Adam(lr=0.001, decay=1e-6), loss='categorical_crossentropy', metrics=['accuracy'])"
   ]
  },
  {
   "cell_type": "code",
   "execution_count": 167,
   "metadata": {},
   "outputs": [
    {
     "name": "stdout",
     "output_type": "stream",
     "text": [
      "Epoch 1/12\n",
      "163/163 [==============================] - 32s 194ms/step - loss: 0.8026 - acc: 0.6764 - val_loss: 1.1963 - val_acc: 0.2798\n",
      "Epoch 2/12\n",
      "163/163 [==============================] - 20s 121ms/step - loss: 0.5630 - acc: 0.7485 - val_loss: 0.7306 - val_acc: 0.5000\n",
      "Epoch 3/12\n",
      "163/163 [==============================] - 21s 128ms/step - loss: 0.4870 - acc: 0.7799 - val_loss: 0.7352 - val_acc: 0.6369\n",
      "Epoch 4/12\n",
      "163/163 [==============================] - 20s 125ms/step - loss: 0.5201 - acc: 0.7791 - val_loss: 0.6242 - val_acc: 0.7410\n",
      "Epoch 5/12\n",
      "163/163 [==============================] - 20s 121ms/step - loss: 0.4874 - acc: 0.7914 - val_loss: 0.5538 - val_acc: 0.7470\n",
      "Epoch 6/12\n",
      "163/163 [==============================] - 21s 129ms/step - loss: 0.4507 - acc: 0.8137 - val_loss: 1.0634 - val_acc: 0.4464\n",
      "Epoch 7/12\n",
      "163/163 [==============================] - 20s 125ms/step - loss: 0.4933 - acc: 0.7983 - val_loss: 0.7693 - val_acc: 0.6386\n",
      "Epoch 8/12\n",
      "163/163 [==============================] - 20s 121ms/step - loss: 0.4523 - acc: 0.8022 - val_loss: 1.0630 - val_acc: 0.5602\n",
      "Epoch 9/12\n",
      "163/163 [==============================] - 21s 127ms/step - loss: 0.4462 - acc: 0.8014 - val_loss: 0.5354 - val_acc: 0.7619\n",
      "Epoch 10/12\n",
      "163/163 [==============================] - 20s 125ms/step - loss: 0.4400 - acc: 0.8244 - val_loss: 1.1574 - val_acc: 0.5482\n",
      "Epoch 11/12\n",
      "163/163 [==============================] - 20s 122ms/step - loss: 0.4606 - acc: 0.7983 - val_loss: 0.8403 - val_acc: 0.5843\n",
      "Epoch 12/12\n",
      "163/163 [==============================] - 21s 126ms/step - loss: 0.4550 - acc: 0.8052 - val_loss: 0.6519 - val_acc: 0.7500\n"
     ]
    },
    {
     "data": {
      "text/plain": [
       "<keras.callbacks.History at 0x7f848d0d06d8>"
      ]
     },
     "execution_count": 167,
     "metadata": {},
     "output_type": "execute_result"
    }
   ],
   "source": [
    "model.fit_generator(train_generator, steps_per_epoch=163, \n",
    "                    validation_data=valid_generator, \n",
    "                    validation_steps=21, \n",
    "                    epochs=12, verbose=1)"
   ]
  },
  {
   "cell_type": "markdown",
   "metadata": {},
   "source": [
    "## Scoring the model"
   ]
  },
  {
   "cell_type": "code",
   "execution_count": 12,
   "metadata": {},
   "outputs": [],
   "source": [
    "with open('flask/models/XR_HUMERUS_v2.json', 'r') as f:\n",
    "    humerus_model = model_from_json(f.read())\n",
    "    humerus_model.load_weights('flask/models/XR_HUMERUS_v2.h5')"
   ]
  },
  {
   "cell_type": "code",
   "execution_count": 13,
   "metadata": {},
   "outputs": [
    {
     "name": "stdout",
     "output_type": "stream",
     "text": [
      "36/36 [==============================] - 23s 626ms/step\n"
     ]
    }
   ],
   "source": [
    "# Test the model on the test set\n",
    "Y_pred = humerus_model.predict_generator(test_generator, steps=round(test_generator.n/8), verbose=1)"
   ]
  },
  {
   "cell_type": "code",
   "execution_count": 14,
   "metadata": {},
   "outputs": [],
   "source": [
    "# Get the correct guesses\n",
    "test_labels = test_generator.classes"
   ]
  },
  {
   "cell_type": "code",
   "execution_count": 15,
   "metadata": {},
   "outputs": [
    {
     "data": {
      "text/plain": [
       "array([[125,  23],\n",
       "       [ 45,  95]])"
      ]
     },
     "execution_count": 15,
     "metadata": {},
     "output_type": "execute_result"
    }
   ],
   "source": [
    "# Confusion matrix\n",
    "matrix = confusion_matrix(test_labels, Y_pred.argmax(axis=1))\n",
    "matrix"
   ]
  },
  {
   "cell_type": "code",
   "execution_count": 16,
   "metadata": {},
   "outputs": [
    {
     "name": "stdout",
     "output_type": "stream",
     "text": [
      "              precision    recall  f1-score   support\n",
      "\n",
      "           0      0.735     0.845     0.786       148\n",
      "           1      0.805     0.679     0.736       140\n",
      "\n",
      "    accuracy                          0.764       288\n",
      "   macro avg      0.770     0.762     0.761       288\n",
      "weighted avg      0.769     0.764     0.762       288\n",
      "\n"
     ]
    }
   ],
   "source": [
    "# Metrics for the model\n",
    "print(metrics.classification_report(test_labels, Y_pred.argmax(axis=1), digits=3))"
   ]
  },
  {
   "cell_type": "code",
   "execution_count": 172,
   "metadata": {},
   "outputs": [],
   "source": [
    "test_classes = test_generator.class_indices\n",
    "tc = np.array(list(test_classes.keys()))"
   ]
  },
  {
   "cell_type": "code",
   "execution_count": 173,
   "metadata": {},
   "outputs": [
    {
     "data": {
      "text/plain": [
       "<matplotlib.axes._subplots.AxesSubplot at 0x7f8490e725f8>"
      ]
     },
     "execution_count": 173,
     "metadata": {},
     "output_type": "execute_result"
    },
    {
     "data": {
      "image/png": "[encoded data removed]",
      "text/plain": [
       "<Figure size 720x504 with 2 Axes>"
      ]
     },
     "metadata": {},
     "output_type": "display_data"
    }
   ],
   "source": [
    "import seaborn as sn\n",
    "import pandas as pd\n",
    "import matplotlib.pyplot as plt\n",
    "\n",
    "df_cm = pd.DataFrame(matrix, index = [i for i in tc],\n",
    "                  columns = [i for i in tc])\n",
    "plt.figure(figsize = (10,7))\n",
    "sn.heatmap(df_cm, annot=True)"
   ]
  },
  {
   "cell_type": "code",
   "execution_count": 171,
   "metadata": {},
   "outputs": [],
   "source": [
    "#Saving the model\n",
    "with open('models/XR_HUMERUS_v2.json', 'w') as f:\n",
    "    f.write(model.to_json())\n",
    "\n",
    "# Saving the model weigths\n",
    "model.save_weights(\"models/XR_HUMERUS_v2.h5\")"
   ]
  }
 ],
 "metadata": {
  "kernelspec": {
   "display_name": "Python 3",
   "language": "python",
   "name": "python3"
  },
  "language_info": {
   "codemirror_mode": {
    "name": "ipython",
    "version": 3
   },
   "file_extension": ".py",
   "mimetype": "text/x-python",
   "name": "python",
   "nbconvert_exporter": "python",
   "pygments_lexer": "ipython3",
   "version": "3.6.7"
  }
 },
 "nbformat": 4,
 "nbformat_minor": 4
}
