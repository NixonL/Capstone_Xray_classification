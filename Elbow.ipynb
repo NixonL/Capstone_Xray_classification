{
 "cells": [
  {
   "cell_type": "markdown",
   "metadata": {},
   "source": [
    "# Elbow Anomaly Detection Model"
   ]
  },
  {
   "cell_type": "code",
   "execution_count": 1,
   "metadata": {},
   "outputs": [
    {
     "name": "stderr",
     "output_type": "stream",
     "text": [
      "Using TensorFlow backend.\n"
     ]
    }
   ],
   "source": [
    "import os\n",
    "import numpy as np\n",
    "import pandas as pd\n",
    "import keras\n",
    "from keras import backend as K\n",
    "from keras.layers.core import Dense, Activation, Dropout\n",
    "from keras.layers import Dense,GlobalAveragePooling2D,Convolution2D,MaxPooling2D,Flatten,Dropout\n",
    "from keras import regularizers\n",
    "from keras.optimizers import Adam, Adadelta\n",
    "from keras.metrics import categorical_crossentropy\n",
    "from keras.preprocessing.image import ImageDataGenerator\n",
    "from keras.preprocessing import image\n",
    "from keras.models import Model\n",
    "from keras.applications import MobileNet\n",
    "from keras.applications.mobilenet import preprocess_input\n",
    "from keras.applications import imagenet_utils\n",
    "from sklearn.metrics import confusion_matrix\n",
    "from keras.callbacks import EarlyStopping, ReduceLROnPlateau, ModelCheckpoint, Callback\n",
    "from keras.models import model_from_json\n",
    "import itertools\n",
    "import matplotlib.pyplot as plt\n",
    "from keras.applications.vgg16 import VGG16,preprocess_input,decode_predictions\n",
    "from keras.applications.inception_v3 import InceptionV3\n",
    "from keras.layers import Input\n",
    "from keras.models import  Sequential\n",
    "from sklearn import metrics\n",
    "\n",
    "%matplotlib inline"
   ]
  },
  {
   "cell_type": "markdown",
   "metadata": {},
   "source": [
    "## Loading the data"
   ]
  },
  {
   "cell_type": "code",
   "execution_count": 5,
   "metadata": {},
   "outputs": [],
   "source": [
    "elbow_df = pd.read_csv('train_elbow.csv')\n",
    "elbow_test = pd.read_csv('test_elbow.csv')"
   ]
  },
  {
   "cell_type": "markdown",
   "metadata": {},
   "source": [
    "## Getting the class weights"
   ]
  },
  {
   "cell_type": "code",
   "execution_count": 6,
   "metadata": {},
   "outputs": [],
   "source": [
    "from sklearn.utils import class_weight\n",
    "class_weights = class_weight.compute_class_weight('balanced', np.unique(elbow_df['class_label']), elbow_df['class_label'])"
   ]
  },
  {
   "cell_type": "code",
   "execution_count": 7,
   "metadata": {},
   "outputs": [
    {
     "data": {
      "text/plain": [
       "array([0.84290598, 1.22906281])"
      ]
     },
     "execution_count": 7,
     "metadata": {},
     "output_type": "execute_result"
    }
   ],
   "source": [
    "class_weights"
   ]
  },
  {
   "cell_type": "markdown",
   "metadata": {},
   "source": [
    "## Generating Train, Validation, Test Data"
   ]
  },
  {
   "cell_type": "code",
   "execution_count": 8,
   "metadata": {},
   "outputs": [],
   "source": [
    "datagen = ImageDataGenerator(\n",
    "    preprocessing_function = preprocess_input,\n",
    "#     featurewise_center = True,\n",
    "#     featurewise_std_normalization = True,\n",
    "    rescale = 1./255,\n",
    "    shear_range = 0.2,\n",
    "    zoom_range = 0.2,\n",
    "    rotation_range = 30,\n",
    "    width_shift_range = 0.2,\n",
    "    height_shift_range = 0.2,\n",
    "    horizontal_flip = True,\n",
    "    validation_split = 0.1)"
   ]
  },
  {
   "cell_type": "code",
   "execution_count": 9,
   "metadata": {},
   "outputs": [
    {
     "name": "stdout",
     "output_type": "stream",
     "text": [
      "Found 4438 validated image filenames belonging to 2 classes.\n",
      "Found 493 validated image filenames belonging to 2 classes.\n"
     ]
    }
   ],
   "source": [
    "train_generator = datagen.flow_from_dataframe(\n",
    "    dataframe = elbow_df,\n",
    "    directory = None,\n",
    "    x_col = \"path\",\n",
    "    y_col = \"class_label\",\n",
    "    subset = \"training\",\n",
    "    batch_size = 8,\n",
    "    shuffle = True,\n",
    "    class_mode = \"categorical\",\n",
    "    target_size = (224, 224))\n",
    "\n",
    "valid_generator = datagen.flow_from_dataframe(\n",
    "    dataframe = elbow_df,\n",
    "    directory = None,\n",
    "    x_col = \"path\",\n",
    "    y_col = \"class_label\",\n",
    "    subset = \"validation\",\n",
    "    batch_size = 8,\n",
    "    shuffle = True,\n",
    "    class_mode = \"categorical\",\n",
    "    target_size = (224, 224))"
   ]
  },
  {
   "cell_type": "code",
   "execution_count": 10,
   "metadata": {},
   "outputs": [
    {
     "name": "stdout",
     "output_type": "stream",
     "text": [
      "Found 465 validated image filenames belonging to 2 classes.\n"
     ]
    }
   ],
   "source": [
    "test_datagen=ImageDataGenerator(rescale=1./255.)\n",
    "\n",
    "test_generator=test_datagen.flow_from_dataframe(\n",
    "dataframe=elbow_test,\n",
    "directory=None,\n",
    "x_col=\"path\",\n",
    "y_col='class_label',\n",
    "batch_size=8,\n",
    "shuffle=False,\n",
    "target_size=(224, 224))"
   ]
  },
  {
   "cell_type": "markdown",
   "metadata": {},
   "source": [
    "## MobileNet Model"
   ]
  },
  {
   "cell_type": "code",
   "execution_count": 124,
   "metadata": {},
   "outputs": [],
   "source": [
    "model = MobileNet()\n",
    "x = model.layers[-6].output\n",
    "predictions = Dense(2, activation='softmax')(x)\n",
    "model = Model(inputs = model.input, outputs=predictions)\n",
    "\n",
    "x = model.layers[-2].output\n",
    "x = Dense(1024, activation='relu')(x)\n",
    "x = Dropout(0.5)(x)\n",
    "x = Dense(1024, activation='relu')(x)\n",
    "x = Dropout(0.5)(x)\n",
    "x = Dense(256, activation='relu')(x)\n",
    "\n",
    "predictions = Dense(2, activation='softmax')(x)\n",
    "\n",
    "model = Model(inputs = model.input, outputs=predictions)"
   ]
  },
  {
   "cell_type": "code",
   "execution_count": 125,
   "metadata": {},
   "outputs": [],
   "source": [
    "# Unfreezing the layers of the model for training \n",
    "for layer in model.layers[:]:\n",
    "   layer.trainable = True"
   ]
  },
  {
   "cell_type": "markdown",
   "metadata": {},
   "source": [
    "## Inception V3 Model"
   ]
  },
  {
   "cell_type": "code",
   "execution_count": 127,
   "metadata": {},
   "outputs": [],
   "source": [
    "# input_tensor = Input(shape=(224, 224, 3))\n",
    "# base_model = InceptionV3(input_tensor=input_tensor, weights='imagenet', include_top=False, )\n",
    "\n",
    "# x = base_model.output\n",
    "# x = GlobalAveragePooling2D()(x)\n",
    "# x = Dropout(0.5)(x)\n",
    "# x = Dense(1024, activation='relu')(x)\n",
    "\n",
    "# predictions = Dense(2, activation='softmax')(x)\n",
    "\n",
    "# model = Model(inputs=base_model.input, outputs=predictions)"
   ]
  },
  {
   "cell_type": "code",
   "execution_count": 128,
   "metadata": {},
   "outputs": [],
   "source": [
    "# for layer in model.layers[:249]:\n",
    "#    layer.trainable = False"
   ]
  },
  {
   "cell_type": "code",
   "execution_count": 129,
   "metadata": {},
   "outputs": [],
   "source": [
    "# for layer in model.layers[-7:]:\n",
    "#    layer.trainable = True"
   ]
  },
  {
   "cell_type": "markdown",
   "metadata": {},
   "source": [
    "## Compiling and training the model"
   ]
  },
  {
   "cell_type": "code",
   "execution_count": 130,
   "metadata": {},
   "outputs": [],
   "source": [
    "model.compile(optimizer=Adam(), loss='categorical_crossentropy', metrics=['accuracy'])"
   ]
  },
  {
   "cell_type": "code",
   "execution_count": 131,
   "metadata": {},
   "outputs": [
    {
     "name": "stdout",
     "output_type": "stream",
     "text": [
      "Epoch 1/10\n",
      "163/163 [==============================] - 32s 199ms/step - loss: 0.8972 - acc: 0.6066 - val_loss: 1.6255 - val_acc: 0.0238\n",
      "Epoch 2/10\n",
      "163/163 [==============================] - 18s 111ms/step - loss: 0.6190 - acc: 0.6748 - val_loss: 0.6451 - val_acc: 0.6310\n",
      "Epoch 3/10\n",
      "163/163 [==============================] - 18s 112ms/step - loss: 0.5836 - acc: 0.7163 - val_loss: 0.7971 - val_acc: 0.5152\n",
      "Epoch 4/10\n",
      "163/163 [==============================] - 18s 112ms/step - loss: 0.5714 - acc: 0.7306 - val_loss: 1.2546 - val_acc: 0.1310\n",
      "Epoch 5/10\n",
      "163/163 [==============================] - 18s 112ms/step - loss: 0.5777 - acc: 0.7239 - val_loss: 1.2733 - val_acc: 0.0238\n",
      "Epoch 6/10\n",
      "163/163 [==============================] - 18s 111ms/step - loss: 0.5777 - acc: 0.7377 - val_loss: 0.5071 - val_acc: 0.6364\n",
      "Epoch 7/10\n",
      "163/163 [==============================] - 18s 113ms/step - loss: 0.5625 - acc: 0.7398 - val_loss: 0.8543 - val_acc: 0.4167\n",
      "Epoch 8/10\n",
      "163/163 [==============================] - 18s 112ms/step - loss: 0.5400 - acc: 0.7638 - val_loss: 0.6798 - val_acc: 0.3929\n",
      "Epoch 9/10\n",
      "163/163 [==============================] - 18s 111ms/step - loss: 0.5813 - acc: 0.7362 - val_loss: 0.7442 - val_acc: 0.4545\n",
      "Epoch 10/10\n",
      "163/163 [==============================] - 18s 113ms/step - loss: 0.5386 - acc: 0.7600 - val_loss: 0.7225 - val_acc: 0.5357\n"
     ]
    },
    {
     "data": {
      "text/plain": [
       "<keras.callbacks.History at 0x7f788349a208>"
      ]
     },
     "execution_count": 131,
     "metadata": {},
     "output_type": "execute_result"
    }
   ],
   "source": [
    "model.fit_generator(train_generator, steps_per_epoch=163, \n",
    "                    validation_data=valid_generator, \n",
    "                    validation_steps=21, class_weight = class_weights,\n",
    "                    epochs=10, verbose=1)"
   ]
  },
  {
   "cell_type": "markdown",
   "metadata": {},
   "source": [
    "## Scoring the model"
   ]
  },
  {
   "cell_type": "code",
   "execution_count": 11,
   "metadata": {},
   "outputs": [
    {
     "name": "stdout",
     "output_type": "stream",
     "text": [
      "WARNING:tensorflow:From /Users/nixonlanh/anaconda3/envs/neuralnetworks/lib/python3.6/site-packages/tensorflow/python/framework/op_def_library.py:263: colocate_with (from tensorflow.python.framework.ops) is deprecated and will be removed in a future version.\n",
      "Instructions for updating:\n",
      "Colocations handled automatically by placer.\n",
      "WARNING:tensorflow:From /Users/nixonlanh/anaconda3/envs/neuralnetworks/lib/python3.6/site-packages/keras/backend/tensorflow_backend.py:3445: calling dropout (from tensorflow.python.ops.nn_ops) with keep_prob is deprecated and will be removed in a future version.\n",
      "Instructions for updating:\n",
      "Please use `rate` instead of `keep_prob`. Rate should be set to `rate = 1 - keep_prob`.\n"
     ]
    }
   ],
   "source": [
    "with open('flask/models/XR_ELBOW_mf.json', 'r') as f:\n",
    "    elbow_model = model_from_json(f.read())\n",
    "    elbow_model.load_weights('flask/models/XR_ELBOW_mf.h5')"
   ]
  },
  {
   "cell_type": "code",
   "execution_count": 12,
   "metadata": {},
   "outputs": [
    {
     "name": "stdout",
     "output_type": "stream",
     "text": [
      "59/59 [==============================] - 33s 557ms/step\n"
     ]
    }
   ],
   "source": [
    "# Test the model on the test set\n",
    "Y_pred = elbow_model.predict_generator(test_generator, steps=59, verbose=1)"
   ]
  },
  {
   "cell_type": "code",
   "execution_count": 13,
   "metadata": {},
   "outputs": [],
   "source": [
    "# Get the correct guesses\n",
    "test_labels = test_generator.classes"
   ]
  },
  {
   "cell_type": "code",
   "execution_count": 14,
   "metadata": {},
   "outputs": [
    {
     "data": {
      "text/plain": [
       "array([[211,  24],\n",
       "       [ 98, 132]])"
      ]
     },
     "execution_count": 14,
     "metadata": {},
     "output_type": "execute_result"
    }
   ],
   "source": [
    "matrix = confusion_matrix(test_labels, Y_pred.argmax(axis=1))\n",
    "matrix"
   ]
  },
  {
   "cell_type": "code",
   "execution_count": 17,
   "metadata": {},
   "outputs": [
    {
     "name": "stdout",
     "output_type": "stream",
     "text": [
      "              precision    recall  f1-score   support\n",
      "\n",
      "           0      0.683     0.898     0.776       235\n",
      "           1      0.846     0.574     0.684       230\n",
      "\n",
      "    accuracy                          0.738       465\n",
      "   macro avg      0.765     0.736     0.730       465\n",
      "weighted avg      0.764     0.738     0.730       465\n",
      "\n"
     ]
    }
   ],
   "source": [
    "# Metrics for the model\n",
    "print(metrics.classification_report(test_labels, Y_pred.argmax(axis=1), digits=3))"
   ]
  },
  {
   "cell_type": "code",
   "execution_count": 15,
   "metadata": {},
   "outputs": [],
   "source": [
    "test_classes = test_generator.class_indices\n",
    "tc = np.array(list(test_classes.keys()))"
   ]
  },
  {
   "cell_type": "code",
   "execution_count": 16,
   "metadata": {},
   "outputs": [
    {
     "data": {
      "text/plain": [
       "<matplotlib.axes._subplots.AxesSubplot at 0x124e8a470>"
      ]
     },
     "execution_count": 16,
     "metadata": {},
     "output_type": "execute_result"
    },
    {
     "data": {
      "image/png": "[encoded data removed]",
      "text/plain": [
       "<Figure size 720x504 with 2 Axes>"
      ]
     },
     "metadata": {
      "needs_background": "light"
     },
     "output_type": "display_data"
    }
   ],
   "source": [
    "import seaborn as sn\n",
    "import pandas as pd\n",
    "import matplotlib.pyplot as plt\n",
    "\n",
    "df_cm = pd.DataFrame(matrix, index = [i for i in tc],\n",
    "                  columns = [i for i in tc])\n",
    "plt.figure(figsize = (10,7))\n",
    "sn.heatmap(df_cm, annot=True)"
   ]
  },
  {
   "cell_type": "code",
   "execution_count": 28,
   "metadata": {},
   "outputs": [],
   "source": [
    "# Saving the model architecture\n",
    "with open('models/XR_ELBOW_v2.json', 'w') as f:\n",
    "    f.write(model.to_json())\n",
    "\n",
    "# Saving the model weights\n",
    "model.save_weights(\"models/XR_ELBOW_v2.h5\")"
   ]
  }
 ],
 "metadata": {
  "kernelspec": {
   "display_name": "Python 3",
   "language": "python",
   "name": "python3"
  },
  "language_info": {
   "codemirror_mode": {
    "name": "ipython",
    "version": 3
   },
   "file_extension": ".py",
   "mimetype": "text/x-python",
   "name": "python",
   "nbconvert_exporter": "python",
   "pygments_lexer": "ipython3",
   "version": "3.6.7"
  }
 },
 "nbformat": 4,
 "nbformat_minor": 4
}
